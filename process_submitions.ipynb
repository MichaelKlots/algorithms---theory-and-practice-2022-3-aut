{
  "nbformat": 4,
  "nbformat_minor": 0,
  "metadata": {
    "colab": {
      "provenance": [],
      "mount_file_id": "1f2MYSGDkMsLe9tgh8I7wr2D0vQHlAP47",
      "authorship_tag": "ABX9TyNInIG6h/d3CKektX6W5gMC",
      "include_colab_link": true
    },
    "kernelspec": {
      "name": "python3",
      "display_name": "Python 3"
    },
    "language_info": {
      "name": "python"
    }
  },
  "cells": [
    {
      "cell_type": "markdown",
      "metadata": {
        "id": "view-in-github",
        "colab_type": "text"
      },
      "source": [
        "<a href=\"https://colab.research.google.com/github/MichaelKlots/algorithms---theory-and-practice-2022-3-aut/blob/main/process_submitions.ipynb\" target=\"_parent\"><img src=\"https://colab.research.google.com/assets/colab-badge.svg\" alt=\"Open In Colab\"/></a>"
      ]
    },
    {
      "cell_type": "markdown",
      "source": [
        "Consts and conversions\n",
        "Which contests to process"
      ],
      "metadata": {
        "id": "Dm5ctpHuzN4A"
      }
    },
    {
      "cell_type": "code",
      "source": [
        "CONTESTS = ['contest_2_g4g_75']\n",
        "def contest_to_marks(contest):\n",
        "\n",
        "  return {'q1': 25, 'q2': 35, 'q3': 40}\n"
      ],
      "metadata": {
        "id": "iD_3yrtq02E6"
      },
      "execution_count": null,
      "outputs": []
    },
    {
      "cell_type": "code",
      "source": [
        "import pandas as pd\n",
        "import numpy as np"
      ],
      "metadata": {
        "id": "Vn5iIMe-UsiK"
      },
      "execution_count": null,
      "outputs": []
    },
    {
      "cell_type": "markdown",
      "source": [
        "# **Inits**"
      ],
      "metadata": {
        "id": "NUxnZbmyzXiq"
      }
    },
    {
      "cell_type": "markdown",
      "source": [
        "## imports"
      ],
      "metadata": {
        "id": "k4POgGWiRRbP"
      }
    },
    {
      "cell_type": "code",
      "execution_count": null,
      "metadata": {
        "id": "LJkEzhRuBm1d"
      },
      "outputs": [],
      "source": [
        "import os\n",
        "os.chdir('/content/drive/MyDrive/MTA/algorithms - theory and practice, 2022-3 aut')"
      ]
    },
    {
      "cell_type": "code",
      "source": [
        "import importlib\n",
        "import sys\n",
        "\n",
        "if 'utils' in sys.modules:\n",
        "  del sys.modules['utils']\n",
        "# import utils\n",
        "import utils\n",
        "# utils = importlib.reload(utils)\n",
        "\n",
        "# importlib.reload(utils)\n"
      ],
      "metadata": {
        "colab": {
          "base_uri": "https://localhost:8080/"
        },
        "id": "S-U0-drhPcRi",
        "outputId": "1951d3be-35d1-42ed-a383-f347238798fa"
      },
      "execution_count": null,
      "outputs": [
        {
          "output_type": "stream",
          "name": "stdout",
          "text": [
            "loaded local utils!\n"
          ]
        }
      ]
    },
    {
      "cell_type": "code",
      "source": [
        "# !pip install -U gspread \n",
        "# from google.colab import auth\n",
        "# auth.authenticate_user()\n",
        "\n",
        "# import gspread\n",
        "# from google.auth import default\n",
        "# creds, _ = default()\n",
        "\n",
        "# gc = gspread.authorize(creds)"
      ],
      "metadata": {
        "id": "TaGOjVH0-i9Y"
      },
      "execution_count": null,
      "outputs": []
    },
    {
      "cell_type": "code",
      "source": [
        "must_pop = False\n",
        "# try:\n",
        "if '/content/drive/MyDrive/code_utils' not in sys.path:\n",
        "  sys.path.append('/content/drive/MyDrive/code_utils')  \n",
        "  # must_pop = True\n",
        "if 'spsh_utils' in sys.modules:\n",
        "  del sys.modules['spsh_utils']\n",
        "# import utils\n",
        "import spsh_utils\n",
        "# finally:\n",
        "#   if must_pop:\n",
        "#     sys.path.remove('/content/drive/MyDrive/code_utils')"
      ],
      "metadata": {
        "id": "gIq3xXfH-h41"
      },
      "execution_count": null,
      "outputs": []
    },
    {
      "cell_type": "markdown",
      "source": [
        "## defs"
      ],
      "metadata": {
        "id": "Gj1z-Ya8RWNw"
      }
    },
    {
      "cell_type": "markdown",
      "source": [
        "### contest (name str) to submissions DF"
      ],
      "metadata": {
        "id": "rS_TsVQLCdkf"
      }
    },
    {
      "cell_type": "code",
      "source": [
        "### contest (name str) to submissions DF\n",
        "\n",
        "def pre_process_contest(contest):\n",
        "\n",
        "  subs = [s for s in os.listdir(contest) if os.path.isdir(os.path.join(contest, s))]\n",
        "\n",
        "  for sub in subs:\n",
        "\n",
        "    files = sorted(os.listdir(os.path.join(contest, sub)))\n",
        "\n",
        "    for f in files:\n",
        "\n",
        "      if '.txt' not in f and f == f.lower():\n",
        "        continue\n",
        "      \n",
        "      new_f = f.lower()\n",
        "      while '.txt' in new_f:\n",
        "        new_f = new_f.replace('.txt', \"\")\n",
        "      \n",
        "      print(sub)\n",
        "      print(f)\n",
        "      print(new_f)\n",
        "\n",
        "      os.rename(os.path.join(contest, sub, f), \n",
        "                os.path.join(contest, sub, new_f))\n",
        "\n",
        "\n",
        "\n",
        "\n",
        "\n",
        "def _is_sub_file(f):\n",
        "\n",
        "  if f[0] == 'q' and \\\n",
        "    ('1' in f or '2' in f or '3' in f) and \\\n",
        "    ('.py' in f or '.java' in f or '.cpp' in f):\n",
        "\n",
        "    return True\n",
        "\n",
        "  return False\n",
        "\n",
        "\n",
        "def _files_to_qst_set(files):\n",
        "\n",
        "  quests = set()\n",
        "  for q_str in ['q1','q2','q3']:\n",
        "\n",
        "    if any((f.startswith(q_str) for f in files)):\n",
        "      quests = quests.union([q_str])\n",
        "\n",
        "  return quests\n",
        "\n",
        "def _qst_set_to_max_score(contest, qst_set):\n",
        "\n",
        "  marks = contest_to_marks(contest)\n",
        "  \n",
        "  return sum(marks[q] for q in qst_set)\n",
        "\n",
        "\n",
        "\n",
        "def get_contest_submissions_df(contest):\n",
        "  \n",
        "  subs = [s for s in os.listdir(contest) if os.path.isdir(os.path.join(contest, s))]\n",
        "\n",
        "  subs_dict = {}\n",
        "\n",
        "  for sub in subs:\n",
        "    \n",
        "    files = sorted(os.listdir(os.path.join(contest, sub)))\n",
        "\n",
        "    qst_set = _files_to_qst_set(files)\n",
        "\n",
        "    got_sub = 1#int(any(_is_sub_file(f) for f in files))\n",
        "    quests = (\",\".join(qst_set)).replace('q','')\n",
        "    max_score = _qst_set_to_max_score(contest, qst_set)\n",
        "    \n",
        "    \n",
        "    heb_name = sub.split('_')[0]\n",
        "    subs_dict[heb_name] = [got_sub, quests, max_score]\n",
        "\n",
        "\n",
        "  df = pd.DataFrame.from_dict(subs_dict, orient='index', columns = ['submitted', 'questions', 'max score'])\n",
        "\n",
        "  # df = pd.DataFrame(data={'name_heb': subs_dict.keys(), 'submitted': subs_dict.values()})\n",
        "\n",
        "  return df\n",
        "\n",
        "def add_valid_score_col(ranked_df):\n",
        "  \n",
        "  valid_ind = ranked_df['Total'].astype(float).fillna(0) <= ranked_df['max score'].astype(float).fillna(0)\n",
        "\n",
        "  ranked_df['mark valid'] = ''\n",
        "  ranked_df.loc[~valid_ind, 'mark valid'] = 'X'\n",
        "\n",
        "  return ranked_df\n",
        "\n",
        "\n",
        "\n"
      ],
      "metadata": {
        "id": "nqHpObRTRfcm"
      },
      "execution_count": null,
      "outputs": []
    },
    {
      "cell_type": "markdown",
      "source": [
        "### G4G contest to relative rank"
      ],
      "metadata": {
        "id": "ZQ0p9bfChZc0"
      }
    },
    {
      "cell_type": "code",
      "source": [
        "### G4G contest df to relative rank df\n",
        "\n",
        "def get_contest_ranked_df(g4g_contest_df, df_g4g_id):\n",
        "\n",
        "  ranked_df = pd.merge(g4g_contest_df, df_g4g_id.fillna(''), how = 'right', left_on='Geek', right_on='G4G username')\n",
        "  ranked_df = ranked_df[[ 'ID_short',\n",
        "  'Rank',\n",
        "  'Last Correct Submission :',\n",
        "  'Total',\n",
        "  'ID',\n",
        "  'email',\n",
        "  'name_heb',\n",
        "  'G4G username',\n",
        "  'G4G password',]]\n",
        "\n",
        "\n",
        "  ranked_df = ranked_df.rename({'Rank': 'G4G rank'}, axis=1)\n",
        "\n",
        "  ind_got_ranks = ~ranked_df['G4G rank'].isnull()\n",
        "  # print(ind_got_ranks.sum())\n",
        "\n",
        "  rel_ranks_df = _get_rel_ranks(ranked_df.loc[ind_got_ranks])\n",
        "\n",
        "  for col in rel_ranks_df.columns:\n",
        "    if col not in ranked_df.columns:\n",
        "      ranked_df[col] = np.nan\n",
        "\n",
        "  ranked_df.loc[ind_got_ranks] = rel_ranks_df\n",
        "  \n",
        "  # ranked_df.loc[ind_got_ranks] = _get_rel_ranks(ranked_df.loc[ind_got_ranks])\n",
        "\n",
        "  # ranked_df.fillna('', inplace=True)\n",
        "  # ranked_df = ranked_df.astype(str)\n",
        "\n",
        "\n",
        "\n",
        "  # ranked_df['G4G rank'] = ranked_df['G4G rank'].astype(float)\n",
        "  \n",
        "  \n",
        "  # assert ranked_df['G4G rank'].dropna().nunique() == len(ranked_df['G4G rank'].dropna()), \"duplicate ranks found!\"\n",
        "  \n",
        "  # ranked_df['MTA rank'] = ranked_df['G4G rank'].rank().astype(float)\n",
        "  # ranked_df['MTA rank rel'] = 1-(ranked_df['MTA rank']-ranked_df['MTA rank'].min())/(ranked_df['MTA rank'].max()-ranked_df['MTA rank'].min())\n",
        "\n",
        "  # ranked_df['MTA rank rel'] = ranked_df['MTA rank rel'].astype(str)\n",
        "  # ranked_df['G4G rank'] = ranked_df['G4G rank'].fillna('')\n",
        "\n",
        "  return ranked_df\n",
        "\n",
        "def _get_rel_ranks(red_ranked_df):\n",
        "\n",
        "  red_ranked_df = red_ranked_df.copy()\n",
        "\n",
        "  red_ranked_df['G4G rank'] = red_ranked_df['G4G rank'].astype(float)\n",
        "  \n",
        "  assert red_ranked_df['G4G rank'].nunique() == len(red_ranked_df['G4G rank']), \"duplicate ranks found!\"\n",
        "  \n",
        "  red_ranked_df['MTA rank'] = red_ranked_df['G4G rank'].rank()\n",
        "  red_ranked_df['MTA rank rel'] = 1-(red_ranked_df['MTA rank']-red_ranked_df['MTA rank'].min())/(red_ranked_df['MTA rank'].max()-red_ranked_df['MTA rank'].min())\n",
        "\n",
        "  # red_ranked_df['MTA rank rel'] = red_ranked_df['MTA rank rel']\n",
        "  # red_ranked_df['G4G rank'] = red_ranked_df['G4G rank'].fillna('')\n",
        "\n",
        "  return red_ranked_df\n",
        "\n"
      ],
      "metadata": {
        "id": "-cZuZCa_dFcI"
      },
      "execution_count": null,
      "outputs": []
    },
    {
      "cell_type": "markdown",
      "source": [
        "### Single contest submission DF to validation suggestion"
      ],
      "metadata": {
        "id": "9mIFu7jQC6qQ"
      }
    },
    {
      "cell_type": "code",
      "source": [
        "### Single contest submission DF to validation suggestion\n",
        "\n",
        "def mta_rank_to_val_suggestion(ranked_df, agg_val_df, contest):\n",
        "\n",
        "  assert isinstance(ranked_df, pd.DataFrame)\n",
        "  \n",
        "  assert isinstance(agg_val_df, pd.DataFrame)\n",
        "\n",
        "  assert isinstance(contest, str)\n",
        "\n",
        "\n",
        "  for col in ['ID_short',\n",
        "              'ID', \n",
        "              'email', \n",
        "              'name_heb', \n",
        "              'G4G username', \n",
        "              'G4G password', \n",
        "              'Total',\n",
        "              'G4G rank',\n",
        "              'MTA rank',\n",
        "              'MTA rank rel' ]:\n",
        "\n",
        "    assert col in ranked_df\n",
        "\n",
        "  ind = ranked_df['MTA rank rel'].astype(float) > 0.8\n",
        "\n",
        "  # ind |= (ranked_df['Total'] >= contest_to_marks(contest)['q3'])\n",
        "\n",
        "  \n",
        "  val_df = ranked_df.loc[ind, ['ID', \n",
        "            'email', \n",
        "            'name_heb', \n",
        "            'G4G username', \n",
        "            'G4G password', \n",
        "            'G4G rank',\n",
        "            'MTA rank',\n",
        "            'MTA rank rel',\n",
        "              ]].copy()\n",
        "\n",
        "  val_df = ranked_df.copy()\n",
        "\n",
        "  val_df['contest'] = contest\n",
        "  val_df['code valid'] = 'U'\n",
        "\n",
        "  cols = val_df.columns.tolist()\n",
        "  cols.remove('contest')\n",
        "  cols.remove('code valid')\n",
        "  cols = ['contest'] + cols + ['code valid']\n",
        "\n",
        "  val_df = val_df[cols]\n",
        "\n",
        "  merge_cols = ['contest', 'ID']\n",
        "\n",
        "  agg_df = pd.concat([val_df, agg_val_df], ignore_index=True)\n",
        "  agg_df = agg_df.drop_duplicates(merge_cols, keep = 'last', ignore_index = True)\n",
        "\n",
        "  return agg_df\n",
        "\n",
        "\n",
        "\n",
        "def re_rank_after_val(ranked_df, agg_val_df, contest):\n",
        "\n",
        "  agg_val_df = agg_val_df.loc[(agg_val_df['contest']==contest) & (agg_val_df['code valid'].lower()=='x')]\n",
        "  \n",
        "\n",
        "\n",
        "\n",
        "  pass\n",
        "\n",
        "\n",
        "def incorp_code_validation(spsh):\n",
        "\n",
        "  agg_val_df = spsh_utils.sheet_to_df(spsh.get_sheet_values('manual verifications')).astype(str)\n",
        "  agg_val_df = mta_rank_to_val_suggestion(ranked_df, agg_val_df, contest)\n",
        "  re_rank_after_val\n",
        "\n",
        "  spsh.set_sheet_values_from_df(\"manual verifications\", agg_val_df.fillna(''))\n",
        "\n",
        "  \n"
      ],
      "metadata": {
        "id": "oXmIkvDsB0fP"
      },
      "execution_count": null,
      "outputs": []
    },
    {
      "cell_type": "markdown",
      "source": [
        "## data"
      ],
      "metadata": {
        "id": "oh7fXnojRZiJ"
      }
    },
    {
      "cell_type": "code",
      "source": [
        "spsh_link = 'https://docs.google.com/spreadsheets/d/1wQr5d827AEf_I9rUceSJ0LSTdcXz0TFE5GMaER1O4BE/'\n",
        "spsh_id = os.path.basename(spsh_link.rstrip('/'))\n",
        "spsh = spsh_utils.ggl_spsh_handler(spsh_id)\n"
      ],
      "metadata": {
        "id": "15mnuvogEwHQ"
      },
      "execution_count": null,
      "outputs": []
    },
    {
      "cell_type": "code",
      "source": [
        "# G4G ID\n",
        "G4G_ID_fname = utils.get_latest_file('G4G_ID', lambda f: f.endswith('csv') and 'G4G_MTA' in f)\n",
        "print(G4G_ID_fname)\n",
        "df_g4g_id = pd.read_csv(G4G_ID_fname, dtype=str)\n",
        "del df_g4g_id['submision_status']\n",
        "df_g4g_id"
      ],
      "metadata": {
        "colab": {
          "base_uri": "https://localhost:8080/",
          "height": 442
        },
        "id": "JS4u_cJRmXxp",
        "outputId": "8d6bdcd1-eb58-4486-d8f6-466a96073a06"
      },
      "execution_count": null,
      "outputs": [
        {
          "output_type": "stream",
          "name": "stdout",
          "text": [
            "G4G_ID/G4G_MTA_33.csv\n"
          ]
        },
        {
          "output_type": "execute_result",
          "data": {
            "text/plain": [
              "           ID                  email            name_heb First Name (eng)  \\\n",
              "0   207040254       amitkn@mta.ac.il        עמית קפלנסקי              NaN   \n",
              "1   207423625        gursm@mta.ac.il        גור שמואלביץ              NaN   \n",
              "2   204812309       shirto@mta.ac.il            שיר תורן              NaN   \n",
              "3   208494245    zvinaorco@mta.ac.il        צבי נאור כהן         Zvi Naor   \n",
              "4   207423906       omercn@mta.ac.il        עומר כהן שור             Omer   \n",
              "..        ...                    ...                 ...              ...   \n",
              "66  208393926       talmao@mta.ac.il             טל מאור              Tal   \n",
              "67  327280418  alexandrakl@mta.ac.il  אלכסנדרה קולוברסקי        alexandra   \n",
              "68  207071713        idoyk@mta.ac.il         אדו יקותיאל              Ido   \n",
              "69  316133222       idanzi@mta.ac.il        עידן זימיליס             Idan   \n",
              "70  209363449       yulisu@mta.ac.il         יולי סולימן             Yuli   \n",
              "\n",
              "   Last Name (eng)      G4G username G4G password ID_short  \n",
              "0              NaN               NaN          NaN     0254  \n",
              "1              NaN               NaN          NaN     3625  \n",
              "2              NaN               NaN          NaN     2309  \n",
              "3            Cohen         zvina0e9t     Zvika123     4245  \n",
              "4       Cohen Shor          omeru3z5    sarel1234     3906  \n",
              "..             ...               ...          ...      ...  \n",
              "66            Maor          talmmlcg     12345678     3926  \n",
              "67      kolovarsky  sashkakolovarsky     12345678     0418  \n",
              "68        Yekutiel      idoyekutkkip    123456789     1713  \n",
              "69         Zimilis          idan0p3p    123456789     3222  \n",
              "70         suliman   yulisuliman1234     yuli1234     3449  \n",
              "\n",
              "[71 rows x 8 columns]"
            ],
            "text/html": [
              "\n",
              "  <div id=\"df-14d62060-7a58-4853-8350-46245ba65143\">\n",
              "    <div class=\"colab-df-container\">\n",
              "      <div>\n",
              "<style scoped>\n",
              "    .dataframe tbody tr th:only-of-type {\n",
              "        vertical-align: middle;\n",
              "    }\n",
              "\n",
              "    .dataframe tbody tr th {\n",
              "        vertical-align: top;\n",
              "    }\n",
              "\n",
              "    .dataframe thead th {\n",
              "        text-align: right;\n",
              "    }\n",
              "</style>\n",
              "<table border=\"1\" class=\"dataframe\">\n",
              "  <thead>\n",
              "    <tr style=\"text-align: right;\">\n",
              "      <th></th>\n",
              "      <th>ID</th>\n",
              "      <th>email</th>\n",
              "      <th>name_heb</th>\n",
              "      <th>First Name (eng)</th>\n",
              "      <th>Last Name (eng)</th>\n",
              "      <th>G4G username</th>\n",
              "      <th>G4G password</th>\n",
              "      <th>ID_short</th>\n",
              "    </tr>\n",
              "  </thead>\n",
              "  <tbody>\n",
              "    <tr>\n",
              "      <th>0</th>\n",
              "      <td>207040254</td>\n",
              "      <td>amitkn@mta.ac.il</td>\n",
              "      <td>עמית קפלנסקי</td>\n",
              "      <td>NaN</td>\n",
              "      <td>NaN</td>\n",
              "      <td>NaN</td>\n",
              "      <td>NaN</td>\n",
              "      <td>0254</td>\n",
              "    </tr>\n",
              "    <tr>\n",
              "      <th>1</th>\n",
              "      <td>207423625</td>\n",
              "      <td>gursm@mta.ac.il</td>\n",
              "      <td>גור שמואלביץ</td>\n",
              "      <td>NaN</td>\n",
              "      <td>NaN</td>\n",
              "      <td>NaN</td>\n",
              "      <td>NaN</td>\n",
              "      <td>3625</td>\n",
              "    </tr>\n",
              "    <tr>\n",
              "      <th>2</th>\n",
              "      <td>204812309</td>\n",
              "      <td>shirto@mta.ac.il</td>\n",
              "      <td>שיר תורן</td>\n",
              "      <td>NaN</td>\n",
              "      <td>NaN</td>\n",
              "      <td>NaN</td>\n",
              "      <td>NaN</td>\n",
              "      <td>2309</td>\n",
              "    </tr>\n",
              "    <tr>\n",
              "      <th>3</th>\n",
              "      <td>208494245</td>\n",
              "      <td>zvinaorco@mta.ac.il</td>\n",
              "      <td>צבי נאור כהן</td>\n",
              "      <td>Zvi Naor</td>\n",
              "      <td>Cohen</td>\n",
              "      <td>zvina0e9t</td>\n",
              "      <td>Zvika123</td>\n",
              "      <td>4245</td>\n",
              "    </tr>\n",
              "    <tr>\n",
              "      <th>4</th>\n",
              "      <td>207423906</td>\n",
              "      <td>omercn@mta.ac.il</td>\n",
              "      <td>עומר כהן שור</td>\n",
              "      <td>Omer</td>\n",
              "      <td>Cohen Shor</td>\n",
              "      <td>omeru3z5</td>\n",
              "      <td>sarel1234</td>\n",
              "      <td>3906</td>\n",
              "    </tr>\n",
              "    <tr>\n",
              "      <th>...</th>\n",
              "      <td>...</td>\n",
              "      <td>...</td>\n",
              "      <td>...</td>\n",
              "      <td>...</td>\n",
              "      <td>...</td>\n",
              "      <td>...</td>\n",
              "      <td>...</td>\n",
              "      <td>...</td>\n",
              "    </tr>\n",
              "    <tr>\n",
              "      <th>66</th>\n",
              "      <td>208393926</td>\n",
              "      <td>talmao@mta.ac.il</td>\n",
              "      <td>טל מאור</td>\n",
              "      <td>Tal</td>\n",
              "      <td>Maor</td>\n",
              "      <td>talmmlcg</td>\n",
              "      <td>12345678</td>\n",
              "      <td>3926</td>\n",
              "    </tr>\n",
              "    <tr>\n",
              "      <th>67</th>\n",
              "      <td>327280418</td>\n",
              "      <td>alexandrakl@mta.ac.il</td>\n",
              "      <td>אלכסנדרה קולוברסקי</td>\n",
              "      <td>alexandra</td>\n",
              "      <td>kolovarsky</td>\n",
              "      <td>sashkakolovarsky</td>\n",
              "      <td>12345678</td>\n",
              "      <td>0418</td>\n",
              "    </tr>\n",
              "    <tr>\n",
              "      <th>68</th>\n",
              "      <td>207071713</td>\n",
              "      <td>idoyk@mta.ac.il</td>\n",
              "      <td>אדו יקותיאל</td>\n",
              "      <td>Ido</td>\n",
              "      <td>Yekutiel</td>\n",
              "      <td>idoyekutkkip</td>\n",
              "      <td>123456789</td>\n",
              "      <td>1713</td>\n",
              "    </tr>\n",
              "    <tr>\n",
              "      <th>69</th>\n",
              "      <td>316133222</td>\n",
              "      <td>idanzi@mta.ac.il</td>\n",
              "      <td>עידן זימיליס</td>\n",
              "      <td>Idan</td>\n",
              "      <td>Zimilis</td>\n",
              "      <td>idan0p3p</td>\n",
              "      <td>123456789</td>\n",
              "      <td>3222</td>\n",
              "    </tr>\n",
              "    <tr>\n",
              "      <th>70</th>\n",
              "      <td>209363449</td>\n",
              "      <td>yulisu@mta.ac.il</td>\n",
              "      <td>יולי סולימן</td>\n",
              "      <td>Yuli</td>\n",
              "      <td>suliman</td>\n",
              "      <td>yulisuliman1234</td>\n",
              "      <td>yuli1234</td>\n",
              "      <td>3449</td>\n",
              "    </tr>\n",
              "  </tbody>\n",
              "</table>\n",
              "<p>71 rows × 8 columns</p>\n",
              "</div>\n",
              "      <button class=\"colab-df-convert\" onclick=\"convertToInteractive('df-14d62060-7a58-4853-8350-46245ba65143')\"\n",
              "              title=\"Convert this dataframe to an interactive table.\"\n",
              "              style=\"display:none;\">\n",
              "        \n",
              "  <svg xmlns=\"http://www.w3.org/2000/svg\" height=\"24px\"viewBox=\"0 0 24 24\"\n",
              "       width=\"24px\">\n",
              "    <path d=\"M0 0h24v24H0V0z\" fill=\"none\"/>\n",
              "    <path d=\"M18.56 5.44l.94 2.06.94-2.06 2.06-.94-2.06-.94-.94-2.06-.94 2.06-2.06.94zm-11 1L8.5 8.5l.94-2.06 2.06-.94-2.06-.94L8.5 2.5l-.94 2.06-2.06.94zm10 10l.94 2.06.94-2.06 2.06-.94-2.06-.94-.94-2.06-.94 2.06-2.06.94z\"/><path d=\"M17.41 7.96l-1.37-1.37c-.4-.4-.92-.59-1.43-.59-.52 0-1.04.2-1.43.59L10.3 9.45l-7.72 7.72c-.78.78-.78 2.05 0 2.83L4 21.41c.39.39.9.59 1.41.59.51 0 1.02-.2 1.41-.59l7.78-7.78 2.81-2.81c.8-.78.8-2.07 0-2.86zM5.41 20L4 18.59l7.72-7.72 1.47 1.35L5.41 20z\"/>\n",
              "  </svg>\n",
              "      </button>\n",
              "      \n",
              "  <style>\n",
              "    .colab-df-container {\n",
              "      display:flex;\n",
              "      flex-wrap:wrap;\n",
              "      gap: 12px;\n",
              "    }\n",
              "\n",
              "    .colab-df-convert {\n",
              "      background-color: #E8F0FE;\n",
              "      border: none;\n",
              "      border-radius: 50%;\n",
              "      cursor: pointer;\n",
              "      display: none;\n",
              "      fill: #1967D2;\n",
              "      height: 32px;\n",
              "      padding: 0 0 0 0;\n",
              "      width: 32px;\n",
              "    }\n",
              "\n",
              "    .colab-df-convert:hover {\n",
              "      background-color: #E2EBFA;\n",
              "      box-shadow: 0px 1px 2px rgba(60, 64, 67, 0.3), 0px 1px 3px 1px rgba(60, 64, 67, 0.15);\n",
              "      fill: #174EA6;\n",
              "    }\n",
              "\n",
              "    [theme=dark] .colab-df-convert {\n",
              "      background-color: #3B4455;\n",
              "      fill: #D2E3FC;\n",
              "    }\n",
              "\n",
              "    [theme=dark] .colab-df-convert:hover {\n",
              "      background-color: #434B5C;\n",
              "      box-shadow: 0px 1px 3px 1px rgba(0, 0, 0, 0.15);\n",
              "      filter: drop-shadow(0px 1px 2px rgba(0, 0, 0, 0.3));\n",
              "      fill: #FFFFFF;\n",
              "    }\n",
              "  </style>\n",
              "\n",
              "      <script>\n",
              "        const buttonEl =\n",
              "          document.querySelector('#df-14d62060-7a58-4853-8350-46245ba65143 button.colab-df-convert');\n",
              "        buttonEl.style.display =\n",
              "          google.colab.kernel.accessAllowed ? 'block' : 'none';\n",
              "\n",
              "        async function convertToInteractive(key) {\n",
              "          const element = document.querySelector('#df-14d62060-7a58-4853-8350-46245ba65143');\n",
              "          const dataTable =\n",
              "            await google.colab.kernel.invokeFunction('convertToInteractive',\n",
              "                                                     [key], {});\n",
              "          if (!dataTable) return;\n",
              "\n",
              "          const docLinkHtml = 'Like what you see? Visit the ' +\n",
              "            '<a target=\"_blank\" href=https://colab.research.google.com/notebooks/data_table.ipynb>data table notebook</a>'\n",
              "            + ' to learn more about interactive tables.';\n",
              "          element.innerHTML = '';\n",
              "          dataTable['output_type'] = 'display_data';\n",
              "          await google.colab.output.renderOutput(dataTable, element);\n",
              "          const docLink = document.createElement('div');\n",
              "          docLink.innerHTML = docLinkHtml;\n",
              "          element.appendChild(docLink);\n",
              "        }\n",
              "      </script>\n",
              "    </div>\n",
              "  </div>\n",
              "  "
            ]
          },
          "metadata": {},
          "execution_count": 146
        }
      ]
    },
    {
      "cell_type": "code",
      "source": [
        "# # student list\n",
        "# MTA_student_list_fname = utils.get_student_list_fname()\n",
        "# print(MTA_student_list_fname)\n",
        "# df_mta_id = pd.read_csv(MTA_student_list_fname, dtype=str)\n",
        "# df_mta_id"
      ],
      "metadata": {
        "id": "0otmgd410xK-"
      },
      "execution_count": null,
      "outputs": []
    },
    {
      "cell_type": "code",
      "source": [
        "# df_g4g_id.dropna()|"
      ],
      "metadata": {
        "id": "umglPbcn9Wvc"
      },
      "execution_count": null,
      "outputs": []
    },
    {
      "cell_type": "code",
      "source": [
        "print(\"DONE INITS\")"
      ],
      "metadata": {
        "colab": {
          "base_uri": "https://localhost:8080/"
        },
        "id": "VoP2upiFH461",
        "outputId": "cd30ec39-22a0-4d29-ca37-14d235f4b972"
      },
      "execution_count": null,
      "outputs": [
        {
          "output_type": "stream",
          "name": "stdout",
          "text": [
            "DONE INITS\n"
          ]
        }
      ]
    },
    {
      "cell_type": "markdown",
      "source": [
        "# Loop contests (and ex's?)"
      ],
      "metadata": {
        "id": "w6U7X1LI8rX1"
      }
    },
    {
      "cell_type": "code",
      "source": [
        "# Loop contests (and ex's?)\n",
        "\n",
        "''' Process each contest '''\n",
        "\n",
        "for contest in CONTESTS:\n",
        "  \n",
        "  print('================')\n",
        "  print(\"Processing: \", contest)\n",
        "  pre_process_contest(contest)\n",
        "\n",
        "  # data = spsh.get_sheet_values(contest + ' G4G')['values']\n",
        "  # g4g_contest_df = pd.DataFrame.from_records(data[1:], columns = data[0])\n",
        "\n",
        "  g4g_contest_df = spsh_utils.sheet_to_df(spsh.get_sheet_values(contest + ' G4G'))\n",
        "\n",
        "  ranked_df = get_contest_ranked_df(g4g_contest_df, df_g4g_id)\n",
        "\n",
        "  agg_val_df = spsh_utils.sheet_to_df(spsh.get_sheet_values('manual verifications')).astype(str)\n",
        "  agg_val_df = mta_rank_to_val_suggestion(ranked_df, agg_val_df, contest)\n",
        "  spsh.set_sheet_values_from_df(\"manual verifications\", agg_val_df.astype(str).fillna(''))\n",
        "  \n",
        "\n",
        "  '''\n",
        "  insert code authenticity validation logic here\n",
        "\n",
        "  for the top 20%:\n",
        "    if verification line present - process it and re-rank\n",
        "    else - add verification requirement\n",
        "\n",
        "  '''\n",
        "\n",
        "  ranked_df = ranked_df[['ID_short', \n",
        "                         'ID', \n",
        "                         'email', \n",
        "                         'name_heb', \n",
        "                         'G4G username', \n",
        "                         'G4G password', \n",
        "                         'Total',\n",
        "                         'G4G rank',\n",
        "                         'MTA rank',\n",
        "                         'MTA rank rel' ]]\n",
        "\n",
        "\n",
        "  submissions_df = get_contest_submissions_df(contest).fillna(0)\n",
        "\n",
        "  ranked_df = pd.merge(ranked_df, submissions_df, how = 'outer', left_on='name_heb', right_index=True)\n",
        "  ranked_df['submitted'] = ranked_df['submitted'].fillna(0)\n",
        "  \n",
        "  ranked_df = add_valid_score_col(ranked_df)\n",
        "\n",
        "  raw_mta_sheet = f\"{contest} MTA\"\n",
        "  if raw_mta_sheet not in spsh:\n",
        "    spsh.add_sheet(raw_mta_sheet)\n",
        "\n",
        "  spsh.set_sheet_values_from_df(raw_mta_sheet+\"\", ranked_df.fillna(''))\n"
      ],
      "metadata": {
        "colab": {
          "base_uri": "https://localhost:8080/"
        },
        "id": "9h_UkrjG846e",
        "outputId": "3785ac76-2423-479b-fa8e-6221f5494532"
      },
      "execution_count": null,
      "outputs": [
        {
          "output_type": "stream",
          "name": "stdout",
          "text": [
            "================\n",
            "Processing:  contest_2_g4g_75\n"
          ]
        }
      ]
    },
    {
      "cell_type": "code",
      "source": [
        "assert False, \"COMPLETED\""
      ],
      "metadata": {
        "id": "gz9cbOXHUPpD",
        "colab": {
          "base_uri": "https://localhost:8080/",
          "height": 172
        },
        "outputId": "4c7d7177-8af3-4c2a-f7ed-9d2e3f98120a"
      },
      "execution_count": null,
      "outputs": [
        {
          "output_type": "error",
          "ename": "AssertionError",
          "evalue": "ignored",
          "traceback": [
            "\u001b[0;31m---------------------------------------------------------------------------\u001b[0m",
            "\u001b[0;31mAssertionError\u001b[0m                            Traceback (most recent call last)",
            "\u001b[0;32m<ipython-input-151-4d0d6174cabd>\u001b[0m in \u001b[0;36m<module>\u001b[0;34m\u001b[0m\n\u001b[0;32m----> 1\u001b[0;31m \u001b[0;32massert\u001b[0m \u001b[0;32mFalse\u001b[0m\u001b[0;34m,\u001b[0m \u001b[0;34m\"COMPLETED\"\u001b[0m\u001b[0;34m\u001b[0m\u001b[0;34m\u001b[0m\u001b[0m\n\u001b[0m",
            "\u001b[0;31mAssertionError\u001b[0m: COMPLETED"
          ]
        }
      ]
    },
    {
      "cell_type": "markdown",
      "source": [
        "# Scratchpad Section"
      ],
      "metadata": {
        "id": "5R0MkP3o3AWV"
      }
    },
    {
      "cell_type": "code",
      "source": [
        "%%shell\n",
        "pwd\n",
        "cd contest_2_g4g_75 \n",
        "pwd\n",
        "cd \"אדו יקותיאל_25423_assignsubmission_file_\" \n",
        "pwd\n",
        "find . -name \"*q*\""
      ],
      "metadata": {
        "id": "fuqigCQTUW8L"
      },
      "execution_count": null,
      "outputs": []
    },
    {
      "cell_type": "code",
      "source": [
        "submissions_df"
      ],
      "metadata": {
        "id": "5j6c88FexIWD"
      },
      "execution_count": null,
      "outputs": []
    },
    {
      "cell_type": "code",
      "source": [
        "agg_val_df.drop_duplicates(['contest','ID'])"
      ],
      "metadata": {
        "id": "a8sunqt6Vdm6"
      },
      "execution_count": null,
      "outputs": []
    },
    {
      "cell_type": "code",
      "source": [
        "spsh.get_sheets_names()"
      ],
      "metadata": {
        "id": "OqHwQjvDuYir"
      },
      "execution_count": null,
      "outputs": []
    },
    {
      "cell_type": "code",
      "source": [
        "raw_mta_sheet = f\"{contest} MTA\"\n",
        "print(raw_mta_sheet)\n",
        "spsh.get_sheets_names()\n",
        "raw_mta_sheet in spsh"
      ],
      "metadata": {
        "id": "9MdmdGVstJvi"
      },
      "execution_count": null,
      "outputs": []
    },
    {
      "cell_type": "code",
      "source": [
        "# g4g_contest_df.dtypes\n",
        "# df_g4g_id.dtypes\n",
        "get_contest_ranked_df(g4g_contest_df, df_g4g_id)"
      ],
      "metadata": {
        "id": "ZCKtvNq5gYzg"
      },
      "execution_count": null,
      "outputs": []
    },
    {
      "cell_type": "code",
      "source": [
        "df_g4g_id"
      ],
      "metadata": {
        "id": "rb_a25ozhUYT"
      },
      "execution_count": null,
      "outputs": []
    },
    {
      "cell_type": "code",
      "source": [
        "M = pd.merge(g4g_contest_df, df_g4g_id.dropna(), how = 'inner', left_on='Geek', right_on='G4G username')\n",
        "M = M[[ 'ID_short',\n",
        " 'Rank',\n",
        " 'Last Correct Submission :',\n",
        " 'Total',\n",
        " 'ID',\n",
        " 'email',\n",
        " 'name_heb',\n",
        " 'G4G username',\n",
        " 'G4G password',]]\n",
        "\n",
        "M=M.rename({'Rank': 'G4G rank'}, axis=1)\n",
        "M['G4G rank'] = M['G4G rank'].astype(int)\n",
        "assert M['G4G rank'].nunique() == len(M), \"duplicate ranks found!\"\n",
        "M['MTA rank'] = M['G4G rank'].rank().astype(int)\n",
        "M['MTA rank rel'] = 1-(M['MTA rank']-M['MTA rank'].min())/(M['MTA rank'].max()-M['MTA rank'].min())\n",
        "\n",
        "# lst = [M.columns.to_list()] + M.to_numpy().tolist()\n",
        "# spsh.set_sheet_values_rows(\"qwwwwe\", lst)"
      ],
      "metadata": {
        "id": "bIT_you68_xZ"
      },
      "execution_count": null,
      "outputs": []
    },
    {
      "cell_type": "code",
      "source": [
        "M"
      ],
      "metadata": {
        "id": "DYijnu0hQFWL"
      },
      "execution_count": null,
      "outputs": []
    },
    {
      "cell_type": "code",
      "source": [
        "M['rr']=M['Rank'].astype(int).rank()\n",
        "M"
      ],
      "metadata": {
        "id": "Ir5l58VdpoNw"
      },
      "execution_count": null,
      "outputs": []
    },
    {
      "cell_type": "code",
      "source": [
        "get_contest_submissions_df('contest_2_g4g_75')"
      ],
      "metadata": {
        "id": "qbA6gGPLH-Hh"
      },
      "execution_count": null,
      "outputs": []
    },
    {
      "cell_type": "code",
      "source": [],
      "metadata": {
        "id": "btCpJCLbCXPl"
      },
      "execution_count": null,
      "outputs": []
    },
    {
      "cell_type": "code",
      "source": [],
      "metadata": {
        "id": "yYFOiatM0mql"
      },
      "execution_count": null,
      "outputs": []
    },
    {
      "cell_type": "code",
      "source": [
        "CUR_CONTEST = CONTESTS[0]\n",
        "!echo $CUR_CONTEST > CUR_CONTEST\n",
        "!cat CUR_CONTEST"
      ],
      "metadata": {
        "id": "QAaXTDB12EYX"
      },
      "execution_count": null,
      "outputs": []
    },
    {
      "cell_type": "code",
      "source": [
        "!ls "
      ],
      "metadata": {
        "id": "_Rc471z_P6y-"
      },
      "execution_count": null,
      "outputs": []
    },
    {
      "cell_type": "code",
      "source": [
        "os.listdir('contest_2_g4g_75/נועה מלכה מנצור_25398_assignsubmission_file_')[0].strip()"
      ],
      "metadata": {
        "id": "FyY3hTNoQGBv"
      },
      "execution_count": null,
      "outputs": []
    },
    {
      "cell_type": "code",
      "source": [
        "!ls -l 'contest_2_g4g_75/נועה מלכה מנצור_25398_assignsubmission_file_'"
      ],
      "metadata": {
        "id": "TWrdphQi3hqV"
      },
      "execution_count": null,
      "outputs": []
    },
    {
      "cell_type": "code",
      "source": [
        "%%shell\n",
        "export CUR_CONTEST=`cat CUR_CONTEST`\n",
        "find $CUR_CONTEST -type f | grep -vi \"zip\" | awk  -F\"/\" '{print $3,\" --- \", $0}' | grep -vi \"^q\"  | sort"
      ],
      "metadata": {
        "id": "r7hP3-lL0oaC"
      },
      "execution_count": null,
      "outputs": []
    },
    {
      "cell_type": "code",
      "source": [
        "%%shell\n",
        "export CUR_CONTEST=`cat CUR_CONTEST`\n",
        "find $CUR_CONTEST -type f | grep -vi \"zip\" | awk  -F\"/\" '{print $3,\" --- \", $0}' | grep -v \"^q\"  |grep -v \"^Q\"| sort"
      ],
      "metadata": {
        "id": "19oIhIBCUjrZ"
      },
      "execution_count": null,
      "outputs": []
    },
    {
      "cell_type": "code",
      "source": [
        "assert False"
      ],
      "metadata": {
        "id": "emOuGSb6pmLf"
      },
      "execution_count": null,
      "outputs": []
    },
    {
      "cell_type": "code",
      "source": [
        "dir(utils)"
      ],
      "metadata": {
        "id": "bp99A-WF8HwG"
      },
      "execution_count": null,
      "outputs": []
    },
    {
      "cell_type": "code",
      "source": [
        "vals=utils.get_spsh_values(spsh_id, \"'contest_2_g4g_75 G4G'!A1:F10\")\n",
        "# vals.pop('range')"
      ],
      "metadata": {
        "id": "dHtY1lYhYzk7"
      },
      "execution_count": null,
      "outputs": []
    },
    {
      "cell_type": "code",
      "source": [
        "# https://docs.google.com/spreadsheets/d/1KgzmUGG4rZLqn8XJJqQKVIbFQ1G5Da_3A1ggof07lAo/edit?usp=sharing"
      ],
      "metadata": {
        "id": "iGqOA9EvqH-v"
      },
      "execution_count": null,
      "outputs": []
    }
  ]
}