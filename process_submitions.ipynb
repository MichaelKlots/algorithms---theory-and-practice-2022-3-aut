{
  "nbformat": 4,
  "nbformat_minor": 0,
  "metadata": {
    "colab": {
      "provenance": [],
      "collapsed_sections": [
        "oh7fXnojRZiJ"
      ],
      "mount_file_id": "1f2MYSGDkMsLe9tgh8I7wr2D0vQHlAP47",
      "authorship_tag": "ABX9TyNiypj1D7rueshL+uqYT6tF",
      "include_colab_link": true
    },
    "kernelspec": {
      "name": "python3",
      "display_name": "Python 3"
    },
    "language_info": {
      "name": "python"
    }
  },
  "cells": [
    {
      "cell_type": "markdown",
      "metadata": {
        "id": "view-in-github",
        "colab_type": "text"
      },
      "source": [
        "<a href=\"https://colab.research.google.com/github/MichaelKlots/algorithms---theory-and-practice-2022-3-aut/blob/main/process_submitions.ipynb\" target=\"_parent\"><img src=\"https://colab.research.google.com/assets/colab-badge.svg\" alt=\"Open In Colab\"/></a>"
      ]
    },
    {
      "cell_type": "markdown",
      "source": [
        "Consts and conversions\n",
        "Which contests to process"
      ],
      "metadata": {
        "id": "Dm5ctpHuzN4A"
      }
    },
    {
      "cell_type": "code",
      "source": [
        "CONTESTS = ['contest_2_g4g_75']\n",
        "def contest_to_marks(contest):\n",
        "\n",
        "  return {'q1': 25, 'q2': 35, 'q3': 40}\n"
      ],
      "metadata": {
        "id": "iD_3yrtq02E6"
      },
      "execution_count": null,
      "outputs": []
    },
    {
      "cell_type": "code",
      "source": [
        "import pandas as pd\n",
        "import numpy as np"
      ],
      "metadata": {
        "id": "Vn5iIMe-UsiK"
      },
      "execution_count": null,
      "outputs": []
    },
    {
      "cell_type": "markdown",
      "source": [
        "# **Inits**"
      ],
      "metadata": {
        "id": "NUxnZbmyzXiq"
      }
    },
    {
      "cell_type": "markdown",
      "source": [
        "## imports"
      ],
      "metadata": {
        "id": "k4POgGWiRRbP"
      }
    },
    {
      "cell_type": "code",
      "execution_count": null,
      "metadata": {
        "id": "LJkEzhRuBm1d"
      },
      "outputs": [],
      "source": [
        "import os\n",
        "os.chdir('/content/drive/MyDrive/MTA/algorithms - theory and practice, 2022-3 aut')"
      ]
    },
    {
      "cell_type": "code",
      "source": [
        "import importlib\n",
        "import sys\n",
        "\n",
        "if 'utils' in sys.modules:\n",
        "  del sys.modules['utils']\n",
        "# import utils\n",
        "import utils\n",
        "# utils = importlib.reload(utils)\n",
        "\n",
        "# importlib.reload(utils)\n"
      ],
      "metadata": {
        "id": "S-U0-drhPcRi"
      },
      "execution_count": null,
      "outputs": []
    },
    {
      "cell_type": "code",
      "source": [
        "# !pip install -U gspread \n",
        "# from google.colab import auth\n",
        "# auth.authenticate_user()\n",
        "\n",
        "# import gspread\n",
        "# from google.auth import default\n",
        "# creds, _ = default()\n",
        "\n",
        "# gc = gspread.authorize(creds)"
      ],
      "metadata": {
        "id": "TaGOjVH0-i9Y"
      },
      "execution_count": null,
      "outputs": []
    },
    {
      "cell_type": "code",
      "source": [
        "must_pop = False\n",
        "# try:\n",
        "if '/content/drive/MyDrive/code_utils' not in sys.path:\n",
        "  sys.path.append('/content/drive/MyDrive/code_utils')  \n",
        "  # must_pop = True\n",
        "if 'spsh_utils' in sys.modules:\n",
        "  del sys.modules['spsh_utils']\n",
        "# import utils\n",
        "import spsh_utils\n",
        "# finally:\n",
        "#   if must_pop:\n",
        "#     sys.path.remove('/content/drive/MyDrive/code_utils')"
      ],
      "metadata": {
        "id": "gIq3xXfH-h41"
      },
      "execution_count": null,
      "outputs": []
    },
    {
      "cell_type": "markdown",
      "source": [
        "## defs"
      ],
      "metadata": {
        "id": "Gj1z-Ya8RWNw"
      }
    },
    {
      "cell_type": "markdown",
      "source": [
        "### contest (name str) to submissions DF"
      ],
      "metadata": {
        "id": "rS_TsVQLCdkf"
      }
    },
    {
      "cell_type": "code",
      "source": [
        "### contest (name str) to submissions DF\n",
        "\n",
        "def pre_process_contest(contest):\n",
        "\n",
        "  subs = [s for s in os.listdir(contest) if os.path.isdir(os.path.join(contest, s))]\n",
        "\n",
        "  for sub in subs:\n",
        "\n",
        "    files = sorted(os.listdir(os.path.join(contest, sub)))\n",
        "\n",
        "    for f in files:\n",
        "\n",
        "      if '.txt' not in f and f == f.lower():\n",
        "        continue\n",
        "      \n",
        "      new_f = f.lower()\n",
        "      while '.txt' in new_f:\n",
        "        new_f = new_f.replace('.txt', \"\")\n",
        "      \n",
        "      print(sub)\n",
        "      print(f)\n",
        "      print(new_f)\n",
        "\n",
        "      os.rename(os.path.join(contest, sub, f), \n",
        "                os.path.join(contest, sub, new_f))\n",
        "\n",
        "\n",
        "\n",
        "\n",
        "\n",
        "def _is_sub_file(f):\n",
        "\n",
        "  if f[0] == 'q' and \\\n",
        "    ('1' in f or '2' in f or '3' in f) and \\\n",
        "    ('.py' in f or '.java' in f or '.cpp' in f):\n",
        "\n",
        "    return True\n",
        "\n",
        "  return False\n",
        "\n",
        "\n",
        "def _files_to_qst_set(files):\n",
        "\n",
        "  quests = set()\n",
        "  for q_str in ['q1','q2','q3']:\n",
        "\n",
        "    if any((f.startswith(q_str) for f in files)):\n",
        "      quests = quests.union([q_str])\n",
        "\n",
        "  return quests\n",
        "\n",
        "def _qst_set_to_max_score(contest, qst_set):\n",
        "\n",
        "  marks = contest_to_marks(contest)\n",
        "  \n",
        "  return sum(marks[q] for q in qst_set)\n",
        "\n",
        "\n",
        "\n",
        "def get_contest_submissions_df(contest):\n",
        "  \n",
        "  subs = [s for s in os.listdir(contest) if os.path.isdir(os.path.join(contest, s))]\n",
        "\n",
        "  subs_dict = {}\n",
        "\n",
        "  for sub in subs:\n",
        "    \n",
        "    files = sorted(os.listdir(os.path.join(contest, sub)))\n",
        "\n",
        "    qst_set = _files_to_qst_set(files)\n",
        "\n",
        "    got_sub = 1#int(any(_is_sub_file(f) for f in files))\n",
        "    quests = (\",\".join(qst_set)).replace('q','')\n",
        "    max_score = _qst_set_to_max_score(contest, qst_set)\n",
        "    \n",
        "    \n",
        "    heb_name = sub.split('_')[0]\n",
        "    subs_dict[heb_name] = [got_sub, quests, max_score]\n",
        "\n",
        "\n",
        "  df = pd.DataFrame.from_dict(subs_dict, orient='index', columns = ['submitted', 'questions', 'max score'])\n",
        "\n",
        "  # df = pd.DataFrame(data={'name_heb': subs_dict.keys(), 'submitted': subs_dict.values()})\n",
        "\n",
        "  return df\n",
        "\n",
        "def add_valid_score_col(ranked_df):\n",
        "  \n",
        "  valid_ind = ranked_df['Total'].astype(float).fillna(0) <= ranked_df['max score'].astype(float).fillna(0)\n",
        "\n",
        "  ranked_df['mark valid'] = ''\n",
        "  ranked_df.loc[~valid_ind, 'mark valid'] = 'X'\n",
        "\n",
        "  return ranked_df\n",
        "\n",
        "\n",
        "\n"
      ],
      "metadata": {
        "id": "nqHpObRTRfcm"
      },
      "execution_count": null,
      "outputs": []
    },
    {
      "cell_type": "markdown",
      "source": [
        "### G4G contest to relative rank"
      ],
      "metadata": {
        "id": "ZQ0p9bfChZc0"
      }
    },
    {
      "cell_type": "code",
      "source": [
        "### G4G contest df to relative rank df\n",
        "\n",
        "def get_contest_ranked_df(g4g_contest_df, df_g4g_id):\n",
        "\n",
        "  ranked_df = pd.merge(g4g_contest_df, df_g4g_id.fillna(''), how = 'right', left_on='Geek', right_on='G4G username')\n",
        "  ranked_df = ranked_df[[ 'ID_short',\n",
        "  'Rank',\n",
        "  'Last Correct Submission :',\n",
        "  'Total',\n",
        "  'ID',\n",
        "  'email',\n",
        "  'name_heb',\n",
        "  'G4G username',\n",
        "  'G4G password',]]\n",
        "\n",
        "\n",
        "  ranked_df = ranked_df.rename({'Rank': 'G4G rank'}, axis=1)\n",
        "\n",
        "  ind_got_ranks = ~ranked_df['G4G rank'].isnull()\n",
        "  # print(ind_got_ranks.sum())\n",
        "\n",
        "  # rel_ranks_df = _get_rel_ranks(ranked_df, ind_got_ranks)\n",
        "  ranked_df = _get_rel_ranks(ranked_df, ind_got_ranks)\n",
        "\n",
        "  return ranked_df\n",
        "\n",
        "\n",
        "\n",
        "def _get_rel_ranks(ranked_df, ind):\n",
        "\n",
        "  ranked_df = ranked_df.copy()\n",
        "  red_ranked_df = ranked_df.loc[ind].copy()\n",
        "\n",
        "\n",
        "  red_ranked_df['G4G rank'] = red_ranked_df['G4G rank'].astype(float)\n",
        "\n",
        "  assert not red_ranked_df['G4G rank'].isnull().any(), \"baahhh...\"\n",
        "  assert red_ranked_df['G4G rank'].nunique() == len(red_ranked_df['G4G rank']), \"duplicate ranks found!\"\n",
        "  \n",
        "  red_ranked_df['MTA rank'] = red_ranked_df['G4G rank'].rank()\n",
        "  red_ranked_df['MTA rank rel'] = 1-(red_ranked_df['MTA rank']-red_ranked_df['MTA rank'].min())/(red_ranked_df['MTA rank'].max()-red_ranked_df['MTA rank'].min())\n",
        "\n",
        "  # red_ranked_df['MTA rank rel'] = red_ranked_df['MTA rank rel']\n",
        "  # red_ranked_df['G4G rank'] = red_ranked_df['G4G rank'].fillna('')\n",
        "\n",
        "  for col in red_ranked_df.columns:\n",
        "    if col not in ranked_df.columns:\n",
        "      ranked_df[col] = np.nan\n",
        "\n",
        "  ranked_df.loc[ind] = red_ranked_df\n",
        "  ranked_df.loc[~ind, ['MTA rank', 'MTA rank rel']] = np.nan\n",
        "\n",
        "\n",
        "  return ranked_df\n",
        "\n"
      ],
      "metadata": {
        "id": "-cZuZCa_dFcI"
      },
      "execution_count": null,
      "outputs": []
    },
    {
      "cell_type": "markdown",
      "source": [
        "### Single contest submission DF to validation suggestion"
      ],
      "metadata": {
        "id": "9mIFu7jQC6qQ"
      }
    },
    {
      "cell_type": "code",
      "source": [
        "### Single contest submission DF to validation suggestion\n",
        "\n",
        "def mta_rank_to_val_suggestion(ranked_df, agg_val_df, contest):\n",
        "\n",
        "  assert isinstance(ranked_df, pd.DataFrame)\n",
        "  \n",
        "  assert isinstance(agg_val_df, pd.DataFrame)\n",
        "\n",
        "  assert isinstance(contest, str)\n",
        "\n",
        "\n",
        "  for col in ['ID_short',\n",
        "              'ID', \n",
        "              'email', \n",
        "              'name_heb', \n",
        "              'G4G username', \n",
        "              'G4G password', \n",
        "              'Total',\n",
        "              'G4G rank',\n",
        "              'MTA rank',\n",
        "              'MTA rank rel',\n",
        "              'mark valid']:\n",
        "\n",
        "    assert col in ranked_df\n",
        "\n",
        "  ind = ranked_df['MTA rank rel'].astype(float) > 0.8\n",
        "\n",
        "  ind |= (ranked_df['Total'].astype(float) >= contest_to_marks(contest)['q3'])\n",
        "  ind |= ranked_df['mark valid'] == 'X'\n",
        "\n",
        "  \n",
        "  val_df = ranked_df.loc[ind, ['ID', \n",
        "            'email', \n",
        "            'name_heb', \n",
        "            'G4G username', \n",
        "            'G4G password', \n",
        "            'G4G rank',\n",
        "            'MTA rank',\n",
        "            'MTA rank rel',\n",
        "            'mark valid',\n",
        "              ]].copy()\n",
        "\n",
        "\n",
        "  val_df['contest'] = contest\n",
        "  val_df['code valid'] = 'U'\n",
        "\n",
        "  cols = val_df.columns.tolist()\n",
        "  cols.remove('contest')\n",
        "  cols.remove('code valid')\n",
        "  cols = ['contest'] + cols + ['code valid']\n",
        "\n",
        "  val_df = val_df[cols]\n",
        "\n",
        "  merge_cols = ['contest', 'ID']\n",
        "\n",
        "  agg_df = pd.concat([val_df, agg_val_df], ignore_index=True)\n",
        "  agg_df = agg_df.drop_duplicates(merge_cols, keep = 'last', ignore_index = True)\n",
        "\n",
        "  return agg_df\n",
        "\n",
        "\n",
        "\n",
        "def incorp_code_validation(ranked_df, agg_val_df, contest):\n",
        "\n",
        "  bad_sub_ind_val = (agg_val_df['contest']==contest) & (agg_val_df['code valid']=='X')\n",
        "\n",
        "  agg_val_df = agg_val_df.loc[bad_sub_ind_val]\n",
        "\n",
        "  bad_sub_ind_rank = ranked_df['ID'].isin(agg_val_df['ID'])\n",
        "\n",
        "  ranked_df.loc[bad_sub_ind_rank, 'submitted'] = 0\n",
        "\n",
        "  ind = (~ranked_df['G4G rank'].isnull()) & (ranked_df['submitted'] == 1)\n",
        "\n",
        "  ranked_df = _get_rel_ranks(ranked_df, ind)\n",
        "\n",
        "  return ranked_df\n",
        "  \n",
        "\n",
        "\n",
        "  # agg_val_df = spsh_utils.sheet_to_df(spsh.get_sheet_values('manual verifications')).astype(str)\n",
        "  # agg_val_df = mta_rank_to_val_suggestion(ranked_df, agg_val_df, contest)\n",
        "  # re_rank_after_val\n",
        "\n",
        "\n",
        "  \n",
        "\n",
        "def re_rank_after_val(ranked_df, agg_val_df, contest):\n",
        "\n",
        "  agg_val_df = mta_rank_to_val_suggestion(ranked_df, agg_val_df, contest)\n",
        "  ranked_df = incorp_code_validation(ranked_df, agg_val_df, contest)\n",
        "\n",
        "  return ranked_df, agg_val_df\n",
        "  \n",
        "  "
      ],
      "metadata": {
        "id": "oXmIkvDsB0fP"
      },
      "execution_count": null,
      "outputs": []
    },
    {
      "cell_type": "markdown",
      "source": [
        "## data"
      ],
      "metadata": {
        "id": "oh7fXnojRZiJ"
      }
    },
    {
      "cell_type": "code",
      "source": [
        "spsh_link = 'https://docs.google.com/spreadsheets/d/1wQr5d827AEf_I9rUceSJ0LSTdcXz0TFE5GMaER1O4BE/'\n",
        "spsh_id = os.path.basename(spsh_link.rstrip('/'))\n",
        "spsh = spsh_utils.ggl_spsh_handler(spsh_id)\n"
      ],
      "metadata": {
        "id": "15mnuvogEwHQ"
      },
      "execution_count": null,
      "outputs": []
    },
    {
      "cell_type": "code",
      "source": [
        "# G4G ID\n",
        "G4G_ID_fname = utils.get_latest_file('G4G_ID', lambda f: f.endswith('csv') and 'G4G_MTA' in f)\n",
        "print(G4G_ID_fname)\n",
        "df_g4g_id = pd.read_csv(G4G_ID_fname, dtype=str)\n",
        "del df_g4g_id['submision_status']\n",
        "df_g4g_id"
      ],
      "metadata": {
        "id": "JS4u_cJRmXxp"
      },
      "execution_count": null,
      "outputs": []
    },
    {
      "cell_type": "code",
      "source": [
        "# # student list\n",
        "# MTA_student_list_fname = utils.get_student_list_fname()\n",
        "# print(MTA_student_list_fname)\n",
        "# df_mta_id = pd.read_csv(MTA_student_list_fname, dtype=str)\n",
        "# df_mta_id"
      ],
      "metadata": {
        "id": "0otmgd410xK-"
      },
      "execution_count": null,
      "outputs": []
    },
    {
      "cell_type": "code",
      "source": [
        "# df_g4g_id.dropna()|"
      ],
      "metadata": {
        "id": "umglPbcn9Wvc"
      },
      "execution_count": null,
      "outputs": []
    },
    {
      "cell_type": "code",
      "source": [
        "print(\"DONE INITS\")"
      ],
      "metadata": {
        "id": "VoP2upiFH461"
      },
      "execution_count": null,
      "outputs": []
    },
    {
      "cell_type": "markdown",
      "source": [
        "# Loop contests (and ex's?)"
      ],
      "metadata": {
        "id": "w6U7X1LI8rX1"
      }
    },
    {
      "cell_type": "code",
      "source": [
        "# Loop contests (and ex's?)\n",
        "\n",
        "''' Process each contest '''\n",
        "\n",
        "for contest in CONTESTS:\n",
        "  \n",
        "  print('================')\n",
        "  print(\"Processing: \", contest)\n",
        "  pre_process_contest(contest)\n",
        "\n",
        "  # data = spsh.get_sheet_values(contest + ' G4G')['values']\n",
        "  # g4g_contest_df = pd.DataFrame.from_records(data[1:], columns = data[0])\n",
        "\n",
        "\n",
        "  # rank\n",
        "  g4g_contest_df = spsh_utils.sheet_to_df(spsh.get_sheet_values(contest + ' G4G'))\n",
        "  ranked_df = get_contest_ranked_df(g4g_contest_df, df_g4g_id)\n",
        "\n",
        "  \n",
        "\n",
        "  '''\n",
        "  insert code authenticity validation logic here\n",
        "\n",
        "  for the top 20%:\n",
        "    if verification line present - process it and re-rank\n",
        "    else - add verification requirement\n",
        "\n",
        "  '''\n",
        "\n",
        "  ranked_df = ranked_df[['ID_short', \n",
        "                         'ID', \n",
        "                         'email', \n",
        "                         'name_heb', \n",
        "                         'G4G username', \n",
        "                         'G4G password', \n",
        "                         'Total',\n",
        "                         'G4G rank',\n",
        "                         'MTA rank',\n",
        "                         'MTA rank rel' ]]\n",
        "\n",
        "  ranked_df.sort_values('ID_short', inplace=True)\n",
        "\n",
        "\n",
        "  submissions_df = get_contest_submissions_df(contest).fillna(0)\n",
        "\n",
        "  ranked_df = pd.merge(ranked_df, submissions_df, how = 'outer', left_on='name_heb', right_index=True)\n",
        "  ranked_df['submitted'] = ranked_df['submitted'].fillna(0)\n",
        "  \n",
        "  ranked_df = add_valid_score_col(ranked_df)\n",
        "\n",
        "  raw_mta_sheet = f\"{contest} MTA\"\n",
        "  if raw_mta_sheet not in spsh:\n",
        "    spsh.add_sheet(raw_mta_sheet)\n",
        "\n",
        "  \n",
        "\n",
        "  # re-rank with manual validation\n",
        "  agg_val_df = spsh_utils.sheet_to_df(spsh.get_sheet_values('manual verifications')).astype(str)\n",
        "  ranked_df, agg_val_df = re_rank_after_val(ranked_df, agg_val_df, contest)\n",
        "\n",
        "  # agg_val_df = spsh_utils.sheet_to_df(spsh.get_sheet_values('manual verifications')).astype(str)\n",
        "  # agg_val_df = mta_rank_to_val_suggestion(ranked_df, agg_val_df, contest)\n",
        "  spsh.set_sheet_values_from_df(\"manual verifications\", agg_val_df.fillna(''))\n",
        "  spsh.set_sheet_values_from_df(raw_mta_sheet+\"\", ranked_df.fillna(''))\n"
      ],
      "metadata": {
        "id": "9h_UkrjG846e"
      },
      "execution_count": null,
      "outputs": []
    },
    {
      "cell_type": "code",
      "source": [
        "assert False, \"COMPLETED\""
      ],
      "metadata": {
        "id": "gz9cbOXHUPpD"
      },
      "execution_count": null,
      "outputs": []
    },
    {
      "cell_type": "markdown",
      "source": [
        "# Scratchpad Section"
      ],
      "metadata": {
        "id": "5R0MkP3o3AWV"
      }
    },
    {
      "cell_type": "code",
      "source": [
        "%%shell\n",
        "pwd\n",
        "cd contest_2_g4g_75 \n",
        "pwd\n",
        "cd \"אדו יקותיאל_25423_assignsubmission_file_\" \n",
        "pwd\n",
        "find . -name \"*q*\""
      ],
      "metadata": {
        "id": "fuqigCQTUW8L"
      },
      "execution_count": null,
      "outputs": []
    },
    {
      "cell_type": "code",
      "source": [
        "submissions_df"
      ],
      "metadata": {
        "id": "5j6c88FexIWD"
      },
      "execution_count": null,
      "outputs": []
    },
    {
      "cell_type": "code",
      "source": [
        "agg_val_df.drop_duplicates(['contest','ID'])"
      ],
      "metadata": {
        "id": "a8sunqt6Vdm6"
      },
      "execution_count": null,
      "outputs": []
    },
    {
      "cell_type": "code",
      "source": [
        "spsh.get_sheets_names()"
      ],
      "metadata": {
        "id": "OqHwQjvDuYir"
      },
      "execution_count": null,
      "outputs": []
    },
    {
      "cell_type": "code",
      "source": [
        "raw_mta_sheet = f\"{contest} MTA\"\n",
        "print(raw_mta_sheet)\n",
        "spsh.get_sheets_names()\n",
        "raw_mta_sheet in spsh"
      ],
      "metadata": {
        "id": "9MdmdGVstJvi"
      },
      "execution_count": null,
      "outputs": []
    },
    {
      "cell_type": "code",
      "source": [
        "# g4g_contest_df.dtypes\n",
        "# df_g4g_id.dtypes\n",
        "get_contest_ranked_df(g4g_contest_df, df_g4g_id)"
      ],
      "metadata": {
        "id": "ZCKtvNq5gYzg"
      },
      "execution_count": null,
      "outputs": []
    },
    {
      "cell_type": "code",
      "source": [
        "df_g4g_id"
      ],
      "metadata": {
        "id": "rb_a25ozhUYT"
      },
      "execution_count": null,
      "outputs": []
    },
    {
      "cell_type": "code",
      "source": [
        "M = pd.merge(g4g_contest_df, df_g4g_id.dropna(), how = 'inner', left_on='Geek', right_on='G4G username')\n",
        "M = M[[ 'ID_short',\n",
        " 'Rank',\n",
        " 'Last Correct Submission :',\n",
        " 'Total',\n",
        " 'ID',\n",
        " 'email',\n",
        " 'name_heb',\n",
        " 'G4G username',\n",
        " 'G4G password',]]\n",
        "\n",
        "M=M.rename({'Rank': 'G4G rank'}, axis=1)\n",
        "M['G4G rank'] = M['G4G rank'].astype(int)\n",
        "assert M['G4G rank'].nunique() == len(M), \"duplicate ranks found!\"\n",
        "M['MTA rank'] = M['G4G rank'].rank().astype(int)\n",
        "M['MTA rank rel'] = 1-(M['MTA rank']-M['MTA rank'].min())/(M['MTA rank'].max()-M['MTA rank'].min())\n",
        "\n",
        "# lst = [M.columns.to_list()] + M.to_numpy().tolist()\n",
        "# spsh.set_sheet_values_rows(\"qwwwwe\", lst)"
      ],
      "metadata": {
        "id": "bIT_you68_xZ"
      },
      "execution_count": null,
      "outputs": []
    },
    {
      "cell_type": "code",
      "source": [
        "M"
      ],
      "metadata": {
        "id": "DYijnu0hQFWL"
      },
      "execution_count": null,
      "outputs": []
    },
    {
      "cell_type": "code",
      "source": [
        "M['rr']=M['Rank'].astype(int).rank()\n",
        "M"
      ],
      "metadata": {
        "id": "Ir5l58VdpoNw"
      },
      "execution_count": null,
      "outputs": []
    },
    {
      "cell_type": "code",
      "source": [
        "get_contest_submissions_df('contest_2_g4g_75')"
      ],
      "metadata": {
        "id": "qbA6gGPLH-Hh"
      },
      "execution_count": null,
      "outputs": []
    },
    {
      "cell_type": "code",
      "source": [],
      "metadata": {
        "id": "btCpJCLbCXPl"
      },
      "execution_count": null,
      "outputs": []
    },
    {
      "cell_type": "code",
      "source": [],
      "metadata": {
        "id": "yYFOiatM0mql"
      },
      "execution_count": null,
      "outputs": []
    },
    {
      "cell_type": "code",
      "source": [
        "CUR_CONTEST = CONTESTS[0]\n",
        "!echo $CUR_CONTEST > CUR_CONTEST\n",
        "!cat CUR_CONTEST"
      ],
      "metadata": {
        "id": "QAaXTDB12EYX"
      },
      "execution_count": null,
      "outputs": []
    },
    {
      "cell_type": "code",
      "source": [
        "!ls "
      ],
      "metadata": {
        "id": "_Rc471z_P6y-"
      },
      "execution_count": null,
      "outputs": []
    },
    {
      "cell_type": "code",
      "source": [
        "os.listdir('contest_2_g4g_75/נועה מלכה מנצור_25398_assignsubmission_file_')[0].strip()"
      ],
      "metadata": {
        "id": "FyY3hTNoQGBv"
      },
      "execution_count": null,
      "outputs": []
    },
    {
      "cell_type": "code",
      "source": [
        "!ls -l 'contest_2_g4g_75/נועה מלכה מנצור_25398_assignsubmission_file_'"
      ],
      "metadata": {
        "id": "TWrdphQi3hqV"
      },
      "execution_count": null,
      "outputs": []
    },
    {
      "cell_type": "code",
      "source": [
        "%%shell\n",
        "export CUR_CONTEST=`cat CUR_CONTEST`\n",
        "find $CUR_CONTEST -type f | grep -vi \"zip\" | awk  -F\"/\" '{print $3,\" --- \", $0}' | grep -vi \"^q\"  | sort"
      ],
      "metadata": {
        "id": "r7hP3-lL0oaC"
      },
      "execution_count": null,
      "outputs": []
    },
    {
      "cell_type": "code",
      "source": [
        "%%shell\n",
        "export CUR_CONTEST=`cat CUR_CONTEST`\n",
        "find $CUR_CONTEST -type f | grep -vi \"zip\" | awk  -F\"/\" '{print $3,\" --- \", $0}' | grep -v \"^q\"  |grep -v \"^Q\"| sort"
      ],
      "metadata": {
        "id": "19oIhIBCUjrZ"
      },
      "execution_count": null,
      "outputs": []
    },
    {
      "cell_type": "code",
      "source": [
        "assert False"
      ],
      "metadata": {
        "id": "emOuGSb6pmLf"
      },
      "execution_count": null,
      "outputs": []
    },
    {
      "cell_type": "code",
      "source": [
        "dir(utils)"
      ],
      "metadata": {
        "id": "bp99A-WF8HwG"
      },
      "execution_count": null,
      "outputs": []
    },
    {
      "cell_type": "code",
      "source": [
        "vals=utils.get_spsh_values(spsh_id, \"'contest_2_g4g_75 G4G'!A1:F10\")\n",
        "# vals.pop('range')"
      ],
      "metadata": {
        "id": "dHtY1lYhYzk7"
      },
      "execution_count": null,
      "outputs": []
    },
    {
      "cell_type": "code",
      "source": [
        "# https://docs.google.com/spreadsheets/d/1KgzmUGG4rZLqn8XJJqQKVIbFQ1G5Da_3A1ggof07lAo/edit?usp=sharing"
      ],
      "metadata": {
        "id": "iGqOA9EvqH-v"
      },
      "execution_count": null,
      "outputs": []
    }
  ]
}